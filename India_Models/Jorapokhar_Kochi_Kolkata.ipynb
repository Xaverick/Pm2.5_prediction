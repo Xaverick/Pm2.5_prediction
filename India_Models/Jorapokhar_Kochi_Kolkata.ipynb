{
 "cells": [
  {
   "cell_type": "code",
   "execution_count": 2,
   "metadata": {},
   "outputs": [
    {
     "name": "stdout",
     "output_type": "stream",
     "text": [
      "Original sizes: 51382\n"
     ]
    }
   ],
   "source": [
    "import numpy as np\n",
    "import pandas as pd\n",
    "from sklearn.preprocessing import MinMaxScaler, LabelEncoder\n",
    "from sklearn.model_selection import train_test_split\n",
    "from sklearn.impute import SimpleImputer\n",
    "import warnings\n",
    "warnings.filterwarnings('ignore')\n",
    "\n",
    "def preprocess_air_quality_data(file_path):\n",
    "    # Load data\n",
    "    df = pd.read_csv(file_path, low_memory=False)\n",
    "    df.drop(columns=['City'], inplace=True)\n",
    "    \n",
    "    # Handle missing values\n",
    "    numeric_columns = df.select_dtypes(include=['float64']).columns\n",
    "    imputer = SimpleImputer(strategy='mean')\n",
    "    df[numeric_columns] = imputer.fit_transform(df[numeric_columns])\n",
    "    \n",
    "    # Process datetime and create time features\n",
    "    df['Datetime'] = pd.to_datetime(df['Datetime'], format='mixed', errors='coerce')\n",
    "    df['Year'] = df['Datetime'].dt.year\n",
    "    df['Month'] = df['Datetime'].dt.month\n",
    "    df['Day'] = df['Datetime'].dt.day\n",
    "    df['Hour'] = df['Datetime'].dt.hour\n",
    "    \n",
    "    # Categorize PM2.5 values\n",
    "    bins = [0, 12, 35.4, 55.4, 150.4, 250.4, float('inf')]\n",
    "    labels = ['Good', 'Moderate', 'Unhealthy for Sensitive', 'Unhealthy', 'Very Unhealthy', 'Hazardous']\n",
    "    df['PM2.5_Category'] = pd.cut(df['PM2.5'], bins=bins, labels=labels)\n",
    "    \n",
    "    # Perform undersampling\n",
    "    return df\n",
    "\n",
    "\n",
    "# For each dataset\n",
    "df = preprocess_air_quality_data('../Data/Jorapokhar_Kochi_Kolkata_data.csv')\n",
    "\n",
    "# Print sizes to see the reduction\n",
    "print(\"Original sizes:\", len(df))\n",
    "\n",
    "\n",
    "\n",
    "df_tmp = df.copy()\n",
    "df_tmp.drop(['AQI_Bucket', 'Datetime'], axis=1, inplace=True)\n",
    "\n",
    "df_tmp['PM2.5_Category'] = df_tmp['PM2.5_Category'].astype(\"category\").cat.as_ordered()\n",
    "\n",
    "df_tmp['PM2.5_Category'].cat.categories\n",
    "\n",
    "df_tmp['PM2.5_Category'].cat.codes\n",
    "df_tmp.isnull().sum()/len(df_tmp)\n",
    "\n",
    "np.random.seed(42)\n",
    "from sklearn.model_selection import train_test_split\n",
    "\n",
    "X = df_tmp.drop(\"PM2.5\", axis=1)\n",
    "Y = df_tmp[\"PM2.5\"]\n",
    "\n",
    "X_train, X_valid, Y_train, Y_valid = train_test_split(X, Y, train_size=0.8)\n",
    "\n",
    "len(X_train), len(X_valid)\n",
    "\n",
    "X_train.shape, X_valid.shape\n",
    "\n",
    "pd.Categorical(X_train[\"PM2.5_Category\"]).codes\n",
    "\n",
    "for label, content in X_train.items():\n",
    "    if not pd.api.types.is_numeric_dtype(content):\n",
    "        #turn category into number\n",
    "        X_train[label] = pd.Categorical(content).codes + 1\n",
    "\n",
    "\n",
    "for label, content in X_valid.items():\n",
    "    if not pd.api.types.is_numeric_dtype(content):\n",
    "        X_valid[label] = pd.Categorical(content).codes + 1"
   ]
  },
  {
   "cell_type": "code",
   "execution_count": 3,
   "metadata": {},
   "outputs": [
    {
     "name": "stdout",
     "output_type": "stream",
     "text": [
      "CPU times: total: 1min 5s\n",
      "Wall time: 7.83 s\n"
     ]
    },
    {
     "data": {
      "text/plain": [
       "{'Training MAE': 1.1638056970641193,\n",
       " 'valid MAE': 2.9651807244612036,\n",
       " 'Training RMSE': 2.862725159309264,\n",
       " 'valid RMSE': 6.287921775763495,\n",
       " 'Training R^2': 0.9956208886188878,\n",
       " 'valid R^2': 0.9775952794570182}"
      ]
     },
     "execution_count": 3,
     "metadata": {},
     "output_type": "execute_result"
    }
   ],
   "source": [
    "%%time\n",
    "# Lets build a machine learning model\n",
    "from sklearn.ensemble import RandomForestRegressor\n",
    "\n",
    "np.random.seed(42)\n",
    "from sklearn.metrics import mean_squared_log_error, mean_absolute_error, r2_score, mean_squared_error\n",
    "\n",
    "def rmsle(y_test, y_preds):\n",
    "    \"\"\"\n",
    "    calculate root mean square log error between prediction and true labels    \n",
    "    \"\"\"\n",
    "\n",
    "    return np.sqrt(mean_squared_log_error(y_test, y_preds))\n",
    "\n",
    "# create a function to evaluate model on a few different levels\n",
    "\n",
    "def show_scores(model):\n",
    "    train_preds = model.predict(X_train)\n",
    "    val_preds = model.predict(X_valid)\n",
    "    scores = {\"Training MAE\" : mean_absolute_error(Y_train,train_preds),\n",
    "              \"valid MAE\" : mean_absolute_error(Y_valid, val_preds),\n",
    "              \"Training RMSE\" : np.sqrt(mean_squared_error(Y_train,train_preds)),\n",
    "              \"valid RMSE\" : np.sqrt(mean_squared_error(Y_valid, val_preds)),\n",
    "              \"Training R^2\": r2_score(Y_train,train_preds),\n",
    "              \"valid R^2\" : r2_score(Y_valid, val_preds)}\n",
    "    \n",
    "    return scores\n",
    "\n",
    "model = RandomForestRegressor(n_jobs=-1, random_state=42)\n",
    "model.fit(X_train, Y_train)\n",
    "\n",
    "show_scores(model)"
   ]
  },
  {
   "cell_type": "code",
   "execution_count": 4,
   "metadata": {},
   "outputs": [
    {
     "name": "stdout",
     "output_type": "stream",
     "text": [
      "CPU times: total: 13.9 s\n",
      "Wall time: 1.83 s\n"
     ]
    },
    {
     "data": {
      "text/plain": [
       "{'Training MAE': 3.2334579320249657,\n",
       " 'valid MAE': 3.5122467961292236,\n",
       " 'Training RMSE': 8.278733960780183,\n",
       " 'valid RMSE': 7.5135744370319335,\n",
       " 'Training R^2': 0.9633769478796184,\n",
       " 'valid R^2': 0.9680096893536677}"
      ]
     },
     "execution_count": 4,
     "metadata": {},
     "output_type": "execute_result"
    }
   ],
   "source": [
    "%%time\n",
    "\n",
    "# most ideal parameter \n",
    "\n",
    "ideal_model = RandomForestRegressor(n_estimators=90,\n",
    "                                    min_samples_leaf=18,\n",
    "                                    min_samples_split=3,\n",
    "                                    max_features=0.5,\n",
    "                                    n_jobs=-1,\n",
    "                                    max_samples=None,\n",
    "                                    random_state=42)  # random state so that our reult is reproducable\n",
    "\n",
    "# FIT THE MODEL\n",
    "\n",
    "ideal_model.fit(X_train, Y_train)\n",
    "show_scores(ideal_model)"
   ]
  },
  {
   "cell_type": "code",
   "execution_count": 5,
   "metadata": {},
   "outputs": [
    {
     "name": "stdout",
     "output_type": "stream",
     "text": [
      "Cross_val_score 0.765291649516906\n",
      "r2_score 0.773230596968564\n",
      "valid MAE  12.50005246412342\n",
      "valid RMSE 20.004587154049016\n"
     ]
    }
   ],
   "source": [
    "from sklearn.linear_model import LinearRegression\n",
    "linreg = LinearRegression()\n",
    "linreg.fit(X_train,Y_train)\n",
    "y_pred = linreg.predict(X_valid)\n",
    "from sklearn.model_selection import cross_val_score\n",
    "print('Cross_val_score', cross_val_score(linreg, X_train, Y_train, cv=10, scoring=\"r2\").mean())\n",
    "print('r2_score', r2_score(Y_valid, y_pred))\n",
    "print(\"valid MAE \", mean_absolute_error(Y_valid, y_pred))\n",
    "print(\"valid RMSE\", np.sqrt(mean_squared_error(Y_valid, y_pred)))"
   ]
  },
  {
   "cell_type": "code",
   "execution_count": null,
   "metadata": {},
   "outputs": [],
   "source": []
  }
 ],
 "metadata": {
  "kernelspec": {
   "display_name": "Python 3",
   "language": "python",
   "name": "python3"
  },
  "language_info": {
   "codemirror_mode": {
    "name": "ipython",
    "version": 3
   },
   "file_extension": ".py",
   "mimetype": "text/x-python",
   "name": "python",
   "nbconvert_exporter": "python",
   "pygments_lexer": "ipython3",
   "version": "3.12.4"
  }
 },
 "nbformat": 4,
 "nbformat_minor": 2
}
